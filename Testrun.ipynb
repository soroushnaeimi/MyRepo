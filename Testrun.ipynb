{
 "cells": [
  {
   "cell_type": "code",
   "execution_count": 14,
   "metadata": {},
   "outputs": [
    {
     "name": "stdout",
     "output_type": "stream",
     "text": [
      "Network Operation Successful - See returned data for results\n",
      "\n"
     ]
    }
   ],
   "source": [
    "import requests\n",
    "import mycode\n",
    "#import merakiapi\n",
    "    \n",
    "#orgid = mycode.getnetworklist('46d77d407770e7d616c12277d989881986e849d2','641762946900337833')\n",
    "\n",
    "\n",
    "# Sample Python Script Using Meraki API module to pull VLAN Details for MX Devices in an organization\n",
    "# Enter API Key and Organization ID into variables\n",
    "#\n",
    "\n",
    "apikey = '46d77d407770e7d616c12277d989881986e849d2'\n",
    "organizationid = '641762946900337833'\n",
    "\n",
    "networks = mycode.getnetworklist(apikey, organizationid)\n",
    "\n",
    "for row in networks:\n",
    "    vlans = mycode.getvlans(apikey, row['id'])\n",
    "    print('VLAN Details for Network ID {0}'.format(str(row['id'])))\n",
    "    for vlanrow in vlans:\n",
    "        vlandetail = mycode.getvlandetail(apikey, row['id'], vlanrow['id'])\n",
    "        print(vlandetail, end='\\n')"
   ]
  },
  {
   "cell_type": "code",
   "execution_count": null,
   "metadata": {
    "collapsed": true
   },
   "outputs": [],
   "source": []
  },
  {
   "cell_type": "code",
   "execution_count": null,
   "metadata": {
    "collapsed": true
   },
   "outputs": [],
   "source": []
  }
 ],
 "metadata": {
  "kernelspec": {
   "display_name": "Python 3",
   "language": "python",
   "name": "python3"
  },
  "language_info": {
   "codemirror_mode": {
    "name": "ipython",
    "version": 3
   },
   "file_extension": ".py",
   "mimetype": "text/x-python",
   "name": "python",
   "nbconvert_exporter": "python",
   "pygments_lexer": "ipython3",
   "version": "3.6.1"
  }
 },
 "nbformat": 4,
 "nbformat_minor": 2
}

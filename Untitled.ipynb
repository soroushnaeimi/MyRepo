{
 "cells": [
  {
   "cell_type": "code",
   "execution_count": 17,
   "metadata": {},
   "outputs": [
    {
     "name": "stdout",
     "output_type": "stream",
     "text": [
      "Organization Operation Successful - See returned data for results\n",
      "\n",
      "[{'id': 641762946900337833, 'name': 'soroushn@byte.com.au - Live Demo'}, {'id': 667095694804254785, 'name': 'VSM - N3011084R - MELTON CITY COUNCIL', 'samlConsumerUrl': 'https://n185.meraki.com/saml/login/F9TxEa5c', 'samlConsumerUrls': ['https://n185.meraki.com/saml/login/F9TxEa5c']}, {'id': 565255, 'name': 'Capital Smart Repairs Pty Ltd', 'samlConsumerUrl': 'https://n85.meraki.com/saml/login/tcd9hc/g-1DWdIWA2pc', 'samlConsumerUrls': ['https://n85.meraki.com/saml/login/tcd9hc/g-1DWdIWA2pc']}, {'id': 651078, 'name': 'Soroush'}, {'id': 549236, 'name': 'Meraki Live Sandbox', 'samlConsumerUrl': 'https://n149.meraki.com/saml/login/-t35Mb/TvUzhbJtIRna', 'samlConsumerUrls': ['https://n149.meraki.com/saml/login/-t35Mb/TvUzhbJtIRna']}]\n"
     ]
    }
   ],
   "source": [
    "import requests\n",
    "import mycode\n",
    "    \n",
    "orgid = mycode.myorgaccess('46d77d407770e7d616c12277d989881986e849d2',False)\n",
    "print (orgid)"
   ]
  },
  {
   "cell_type": "code",
   "execution_count": null,
   "metadata": {
    "collapsed": true
   },
   "outputs": [],
   "source": []
  }
 ],
 "metadata": {
  "kernelspec": {
   "display_name": "Python 3",
   "language": "python",
   "name": "python3"
  },
  "language_info": {
   "codemirror_mode": {
    "name": "ipython",
    "version": 3
   },
   "file_extension": ".py",
   "mimetype": "text/x-python",
   "name": "python",
   "nbconvert_exporter": "python",
   "pygments_lexer": "ipython3",
   "version": "3.6.1"
  }
 },
 "nbformat": 4,
 "nbformat_minor": 2
}
